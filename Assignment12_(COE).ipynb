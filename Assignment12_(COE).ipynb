{
  "nbformat": 4,
  "nbformat_minor": 0,
  "metadata": {
    "colab": {
      "provenance": [],
      "include_colab_link": true
    },
    "kernelspec": {
      "name": "python3",
      "display_name": "Python 3"
    },
    "language_info": {
      "name": "python"
    }
  },
  "cells": [
    {
      "cell_type": "markdown",
      "metadata": {
        "id": "view-in-github",
        "colab_type": "text"
      },
      "source": [
        "<a href=\"https://colab.research.google.com/github/SuvamPal18/Custom_Vision-image-/blob/main/Assignment12_(COE).ipynb\" target=\"_parent\"><img src=\"https://colab.research.google.com/assets/colab-badge.svg\" alt=\"Open In Colab\"/></a>"
      ]
    },
    {
      "cell_type": "code",
      "execution_count": null,
      "metadata": {
        "colab": {
          "base_uri": "https://localhost:8080/"
        },
        "id": "tgCLvVFsTA0h",
        "outputId": "18c157ca-6a18-4a46-f619-4905eda0d338"
      },
      "outputs": [
        {
          "output_type": "stream",
          "name": "stdout",
          "text": [
            "Requirement already satisfied: textblob in /usr/local/lib/python3.10/dist-packages (0.17.1)\n",
            "Requirement already satisfied: nltk>=3.1 in /usr/local/lib/python3.10/dist-packages (from textblob) (3.8.1)\n",
            "Requirement already satisfied: click in /usr/local/lib/python3.10/dist-packages (from nltk>=3.1->textblob) (8.1.7)\n",
            "Requirement already satisfied: joblib in /usr/local/lib/python3.10/dist-packages (from nltk>=3.1->textblob) (1.4.2)\n",
            "Requirement already satisfied: regex>=2021.8.3 in /usr/local/lib/python3.10/dist-packages (from nltk>=3.1->textblob) (2024.5.15)\n",
            "Requirement already satisfied: tqdm in /usr/local/lib/python3.10/dist-packages (from nltk>=3.1->textblob) (4.66.5)\n",
            "/usr/lib/python3.10/runpy.py:126: RuntimeWarning: 'nltk.downloader' found in sys.modules after import of package 'nltk', but prior to execution of 'nltk.downloader'; this may result in unpredictable behaviour\n",
            "  warn(RuntimeWarning(msg))\n",
            "[nltk_data] Downloading package punkt to /root/nltk_data...\n",
            "[nltk_data]   Unzipping tokenizers/punkt.zip.\n"
          ]
        }
      ],
      "source": [
        "!pip install textblob\n",
        "!python -m nltk.downloader punkt"
      ]
    },
    {
      "cell_type": "code",
      "source": [
        "from textblob import TextBlob"
      ],
      "metadata": {
        "id": "yD4iIIN-TOy9"
      },
      "execution_count": null,
      "outputs": []
    },
    {
      "cell_type": "code",
      "source": [
        "def analyze_aspects(reviews):\n",
        "    # Define keywords for movie-related aspects and food-related aspects\n",
        "    aspect_keywords = {\n",
        "        'movie': ['movie', 'film', 'story', 'acting', 'plot', 'cinematography', 'direction'],\n",
        "        'food': ['food', 'snack', 'popcorn', 'soda', 'drink', 'beverage', 'meal'],\n",
        "        'service': ['service', 'staff', 'server', 'waiter', 'waitress'],\n",
        "        'experience': ['experience', 'ambiance', 'atmosphere', 'seating', 'environment']\n",
        "    }\n",
        "\n",
        "    results = []\n",
        "\n",
        "    for review in reviews:\n",
        "        review_sentiment = {'review': review}\n",
        "\n",
        "        blob = TextBlob(review)\n",
        "\n",
        "        for aspect, keywords in aspect_keywords.items():\n",
        "            aspect_sentiment = 0\n",
        "            keyword_count = 0\n",
        "\n",
        "            for keyword in keywords:\n",
        "                if keyword in blob.words:\n",
        "                    keyword_count += 1\n",
        "                    aspect_sentiment += blob.sentiment.polarity\n",
        "\n",
        "            # Calculate average sentiment for the aspect if keywords are found\n",
        "            if keyword_count > 0:\n",
        "                review_sentiment[aspect] = aspect_sentiment / keyword_count\n",
        "            else:\n",
        "                review_sentiment[aspect] = \"No mention\"\n",
        "\n",
        "        results.append(review_sentiment)\n",
        "\n",
        "    return results"
      ],
      "metadata": {
        "id": "5YwpOlHMTg1N"
      },
      "execution_count": null,
      "outputs": []
    },
    {
      "cell_type": "code",
      "source": [
        "# Example reviews\n",
        "reviews = [\n",
        "    \"The movie was fantastic, but the food was overpriced and tasted bad. The service was okay.\",\n",
        "    \"I enjoyed the movie, and the popcorn was fresh. The seating was comfortable, and the ambiance was nice.\",\n",
        "    \"The film was boring, but the snacks were great! The service could have been better though.\",\n",
        "    \"The movie was mediocre, and the food was too salty. However, the overall experience was decent.\"\n",
        "]\n",
        "\n",
        "# Analyze the reviews\n",
        "sentiments = analyze_aspects(reviews)\n",
        "\n",
        "# Print the results\n",
        "for sentiment in sentiments:\n",
        "    print(f\"Review: {sentiment['review']}\")\n",
        "    print(f\"Movie Sentiment: {sentiment['movie']}\")\n",
        "    print(f\"Food Sentiment: {sentiment['food']}\")\n",
        "    print(f\"Service Sentiment: {sentiment['service']}\")\n",
        "    print(f\"Experience Sentiment: {sentiment['experience']}\")\n",
        "    print(\"\\n\")"
      ],
      "metadata": {
        "colab": {
          "base_uri": "https://localhost:8080/"
        },
        "id": "G98n9meTTzYU",
        "outputId": "1e3f4d72-81d5-4d17-d117-06c0b398800d"
      },
      "execution_count": null,
      "outputs": [
        {
          "output_type": "stream",
          "name": "stdout",
          "text": [
            "Review: The movie was fantastic, but the food was overpriced and tasted bad. The service was okay.\n",
            "Movie Sentiment: 0.06666666666666672\n",
            "Food Sentiment: 0.06666666666666672\n",
            "Service Sentiment: 0.06666666666666672\n",
            "Experience Sentiment: No mention\n",
            "\n",
            "\n",
            "Review: I enjoyed the movie, and the popcorn was fresh. The seating was comfortable, and the ambiance was nice.\n",
            "Movie Sentiment: 0.45000000000000007\n",
            "Food Sentiment: 0.45000000000000007\n",
            "Service Sentiment: No mention\n",
            "Experience Sentiment: 0.45000000000000007\n",
            "\n",
            "\n",
            "Review: The film was boring, but the snacks were great! The service could have been better though.\n",
            "Movie Sentiment: 0.16666666666666666\n",
            "Food Sentiment: No mention\n",
            "Service Sentiment: 0.16666666666666666\n",
            "Experience Sentiment: No mention\n",
            "\n",
            "\n",
            "Review: The movie was mediocre, and the food was too salty. However, the overall experience was decent.\n",
            "Movie Sentiment: -0.11111111111111112\n",
            "Food Sentiment: -0.11111111111111112\n",
            "Service Sentiment: No mention\n",
            "Experience Sentiment: -0.11111111111111112\n",
            "\n",
            "\n"
          ]
        }
      ]
    }
  ]
}