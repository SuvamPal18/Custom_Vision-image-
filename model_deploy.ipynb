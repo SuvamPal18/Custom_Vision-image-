{
  "cells": [
    {
      "cell_type": "markdown",
      "metadata": {
        "id": "view-in-github",
        "colab_type": "text"
      },
      "source": [
        "<a href=\"https://colab.research.google.com/github/SuvamPal18/Custom_Vision-image-/blob/main/model_deploy.ipynb\" target=\"_parent\"><img src=\"https://colab.research.google.com/assets/colab-badge.svg\" alt=\"Open In Colab\"/></a>"
      ]
    },
    {
      "cell_type": "code",
      "execution_count": null,
      "metadata": {
        "colab": {
          "base_uri": "https://localhost:8080/"
        },
        "id": "Q4w0kVugOjHc",
        "outputId": "eecf57d6-6951-47e0-b2df-86694c20599e"
      },
      "outputs": [
        {
          "output_type": "stream",
          "name": "stdout",
          "text": [
            "Requirement already satisfied: textblob in /usr/local/lib/python3.10/dist-packages (0.17.1)\n",
            "Requirement already satisfied: nltk>=3.1 in /usr/local/lib/python3.10/dist-packages (from textblob) (3.8.1)\n",
            "Requirement already satisfied: click in /usr/local/lib/python3.10/dist-packages (from nltk>=3.1->textblob) (8.1.7)\n",
            "Requirement already satisfied: joblib in /usr/local/lib/python3.10/dist-packages (from nltk>=3.1->textblob) (1.4.2)\n",
            "Requirement already satisfied: regex>=2021.8.3 in /usr/local/lib/python3.10/dist-packages (from nltk>=3.1->textblob) (2024.5.15)\n",
            "Requirement already satisfied: tqdm in /usr/local/lib/python3.10/dist-packages (from nltk>=3.1->textblob) (4.66.5)\n",
            "/usr/lib/python3.10/runpy.py:126: RuntimeWarning: 'nltk.downloader' found in sys.modules after import of package 'nltk', but prior to execution of 'nltk.downloader'; this may result in unpredictable behaviour\n",
            "  warn(RuntimeWarning(msg))\n",
            "[nltk_data] Downloading package punkt to /root/nltk_data...\n",
            "[nltk_data]   Package punkt is already up-to-date!\n"
          ]
        }
      ],
      "source": [
        "!pip install textblob\n",
        "!python -m nltk.downloader punkt"
      ]
    },
    {
      "cell_type": "code",
      "execution_count": null,
      "metadata": {
        "colab": {
          "base_uri": "https://localhost:8080/"
        },
        "id": "hRlVL6qPOtIN",
        "outputId": "64bd5537-0d8d-4fb4-d987-f5b6ba431e87"
      },
      "outputs": [
        {
          "output_type": "stream",
          "name": "stdout",
          "text": [
            "Review: The movie was fantastic, but the food was overpriced and tasted bad. The service was okay.\n",
            "Movie Sentiment: 0.06666666666666672\n",
            "Food Sentiment: 0.06666666666666672\n",
            "Service Sentiment: 0.06666666666666672\n",
            "Experience Sentiment: No mention\n",
            "\n",
            "\n",
            "Review: I enjoyed the movie, and the popcorn was fresh. The seating was comfortable, and the ambiance was nice.\n",
            "Movie Sentiment: 0.45000000000000007\n",
            "Food Sentiment: 0.45000000000000007\n",
            "Service Sentiment: No mention\n",
            "Experience Sentiment: 0.45000000000000007\n",
            "\n",
            "\n",
            "Review: The film was boring, but the snacks were great! The service could have been better though.\n",
            "Movie Sentiment: 0.16666666666666666\n",
            "Food Sentiment: No mention\n",
            "Service Sentiment: 0.16666666666666666\n",
            "Experience Sentiment: No mention\n",
            "\n",
            "\n",
            "Review: The movie was mediocre, and the food was too salty. However, the overall experience was decent.\n",
            "Movie Sentiment: -0.11111111111111112\n",
            "Food Sentiment: -0.11111111111111112\n",
            "Service Sentiment: No mention\n",
            "Experience Sentiment: -0.11111111111111112\n",
            "\n",
            "\n"
          ]
        }
      ],
      "source": [
        "from textblob import TextBlob\n",
        "\n",
        "def analyze_aspects(reviews):\n",
        "    # Define keywords for movie-related aspects and food-related aspects\n",
        "    aspect_keywords = {\n",
        "        'movie': ['movie', 'film', 'story', 'acting', 'plot', 'cinematography', 'direction'],\n",
        "        'food': ['food', 'snack', 'popcorn', 'soda', 'drink', 'beverage', 'meal'],\n",
        "        'service': ['service', 'staff', 'server', 'waiter', 'waitress'],\n",
        "        'experience': ['experience', 'ambiance', 'atmosphere', 'seating', 'environment']\n",
        "    }\n",
        "\n",
        "    results = []\n",
        "\n",
        "    for review in reviews:\n",
        "        review_sentiment = {'review': review}\n",
        "\n",
        "        blob = TextBlob(review)\n",
        "\n",
        "        for aspect, keywords in aspect_keywords.items():\n",
        "            aspect_sentiment = 0\n",
        "            keyword_count = 0\n",
        "\n",
        "            for keyword in keywords:\n",
        "                if keyword in blob.words:\n",
        "                    keyword_count += 1\n",
        "                    aspect_sentiment += blob.sentiment.polarity\n",
        "\n",
        "            # Calculate average sentiment for the aspect if keywords are found\n",
        "            if keyword_count > 0:\n",
        "                review_sentiment[aspect] = aspect_sentiment / keyword_count\n",
        "            else:\n",
        "                review_sentiment[aspect] = \"No mention\"\n",
        "\n",
        "        results.append(review_sentiment)\n",
        "\n",
        "    return results\n",
        "\n",
        "# Example reviews\n",
        "reviews = [\n",
        "    \"The movie was fantastic, but the food was overpriced and tasted bad. The service was okay.\",\n",
        "    \"I enjoyed the movie, and the popcorn was fresh. The seating was comfortable, and the ambiance was nice.\",\n",
        "    \"The film was boring, but the snacks were great! The service could have been better though.\",\n",
        "    \"The movie was mediocre, and the food was too salty. However, the overall experience was decent.\"\n",
        "]\n",
        "\n",
        "# Analyze the reviews\n",
        "sentiments = analyze_aspects(reviews)\n",
        "\n",
        "# Print the results\n",
        "for sentiment in sentiments:\n",
        "    print(f\"Review: {sentiment['review']}\")\n",
        "    print(f\"Movie Sentiment: {sentiment['movie']}\")\n",
        "    print(f\"Food Sentiment: {sentiment['food']}\")\n",
        "    print(f\"Service Sentiment: {sentiment['service']}\")\n",
        "    print(f\"Experience Sentiment: {sentiment['experience']}\")\n",
        "    print(\"\\n\")"
      ]
    },
    {
      "cell_type": "code",
      "source": [
        "!pip install Flask"
      ],
      "metadata": {
        "colab": {
          "base_uri": "https://localhost:8080/"
        },
        "id": "0XGnzefhs8S0",
        "outputId": "9aad441c-a34d-4d3f-d876-dae010e5acb4"
      },
      "execution_count": null,
      "outputs": [
        {
          "output_type": "stream",
          "name": "stdout",
          "text": [
            "Requirement already satisfied: Flask in /usr/local/lib/python3.10/dist-packages (2.2.5)\n",
            "Requirement already satisfied: Werkzeug>=2.2.2 in /usr/local/lib/python3.10/dist-packages (from Flask) (3.0.3)\n",
            "Requirement already satisfied: Jinja2>=3.0 in /usr/local/lib/python3.10/dist-packages (from Flask) (3.1.4)\n",
            "Requirement already satisfied: itsdangerous>=2.0 in /usr/local/lib/python3.10/dist-packages (from Flask) (2.2.0)\n",
            "Requirement already satisfied: click>=8.0 in /usr/local/lib/python3.10/dist-packages (from Flask) (8.1.7)\n",
            "Requirement already satisfied: MarkupSafe>=2.0 in /usr/local/lib/python3.10/dist-packages (from Jinja2>=3.0->Flask) (2.1.5)\n"
          ]
        }
      ]
    },
    {
      "cell_type": "code",
      "source": [
        "from flask import Flask, request, jsonify\n",
        "from textblob import TextBlob\n",
        "\n",
        "app = Flask(__name__)\n",
        "\n",
        "def analyze_aspects(reviews):\n",
        "    aspect_keywords = {\n",
        "        'movie': ['movie', 'film', 'story', 'acting', 'plot', 'cinematography', 'direction'],\n",
        "        'food': ['food', 'snack', 'popcorn', 'soda', 'drink', 'beverage', 'meal'],\n",
        "        'service': ['service', 'staff', 'server', 'waiter', 'waitress'],\n",
        "        'experience': ['experience', 'ambiance', 'atmosphere', 'seating', 'environment']\n",
        "    }\n",
        "\n",
        "    results = []\n",
        "\n",
        "    for review in reviews:\n",
        "        review_sentiment = {'review': review}\n",
        "        blob = TextBlob(review)\n",
        "\n",
        "        for aspect, keywords in aspect_keywords.items():\n",
        "            aspect_sentiment = 0\n",
        "            keyword_count = 0\n",
        "\n",
        "            for keyword in keywords:\n",
        "                if keyword in blob.words:\n",
        "                    keyword_count += 1\n",
        "                    aspect_sentiment += blob.sentiment.polarity\n",
        "\n",
        "            if keyword_count > 0:\n",
        "                review_sentiment[aspect] = aspect_sentiment / keyword_count\n",
        "            else:\n",
        "                review_sentiment[aspect] = \"No mention\"\n",
        "\n",
        "        results.append(review_sentiment)\n",
        "\n",
        "    return results\n",
        "\n",
        "@app.route('/analyze', methods=['POST'])\n",
        "def analyze():\n",
        "    data = request.json\n",
        "    reviews = data.get('reviews', [])\n",
        "    sentiments = analyze_aspects(reviews)\n",
        "    return jsonify(sentiments)\n",
        "\n",
        "if __name__ == '__main__':\n",
        "    app.run(host='0.0.0.0', port=5000)\n"
      ],
      "metadata": {
        "colab": {
          "base_uri": "https://localhost:8080/"
        },
        "id": "TteO3xlzs8PO",
        "outputId": "a74898ac-a24f-4824-c66b-cd0c5c5df66e"
      },
      "execution_count": null,
      "outputs": [
        {
          "output_type": "stream",
          "name": "stdout",
          "text": [
            " * Serving Flask app '__main__'\n",
            " * Debug mode: off\n"
          ]
        },
        {
          "output_type": "stream",
          "name": "stderr",
          "text": [
            "INFO:werkzeug:\u001b[31m\u001b[1mWARNING: This is a development server. Do not use it in a production deployment. Use a production WSGI server instead.\u001b[0m\n",
            " * Running on all addresses (0.0.0.0)\n",
            " * Running on http://127.0.0.1:5000\n",
            " * Running on http://172.28.0.12:5000\n",
            "INFO:werkzeug:\u001b[33mPress CTRL+C to quit\u001b[0m\n"
          ]
        }
      ]
    }
  ],
  "metadata": {
    "colab": {
      "provenance": [],
      "include_colab_link": true
    },
    "kernelspec": {
      "display_name": "Python 3",
      "name": "python3"
    },
    "language_info": {
      "name": "python"
    }
  },
  "nbformat": 4,
  "nbformat_minor": 0
}